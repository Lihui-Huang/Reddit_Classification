{
 "cells": [
  {
   "cell_type": "code",
   "execution_count": 1,
   "metadata": {},
   "outputs": [
    {
     "data": {
      "text/plain": [
       "'\\nX_frequency = np.sum(X, axis=0)\\nnp.sort(X_frequency)[::-1][90:100]\\n\\nnp.sort(X_frequency)[::-1][190:200]\\n\\n#there are about 35000 features that have frequency 1\\n#there are about 10000 featrues that have frequency 2\\ndelete_features = []\\nfor i in range(len(X_frequency)):\\n    if X_frequency[i] <= 1:\\n        delete_features.append(i)\\ndelete_X = np.delete(bache_X, delete_features, 1)\\n\\ndelete_X.shape\\n'"
      ]
     },
     "execution_count": 1,
     "metadata": {},
     "output_type": "execute_result"
    }
   ],
   "source": [
    "import numpy as np\n",
    "import csv\n",
    "from sklearn.feature_extraction.text import CountVectorizer\n",
    "from nltk import word_tokenize  \n",
    "from nltk.stem import WordNetLemmatizer \n",
    "from nltk.corpus import stopwords\n",
    "from nltk.stem import PorterStemmer\n",
    "\n",
    "#extract the original text\n",
    "with open(\"reddit_train.csv\", 'r') as f:\n",
    "        reddit_comments = list(csv.reader(f, delimiter=\",\"))\n",
    "headers = np.array(reddit_comments[0])\n",
    "ID = np.array(reddit_comments).transpose()[0][1:]\n",
    "comments = np.array(reddit_comments).transpose()[1][1:]\n",
    "subreddits = np.array(reddit_comments).transpose()[2][1:]\n",
    "\n",
    "stop = stopwords.words('english')\n",
    "lemmer=WordNetLemmatizer()\n",
    "for i in range(len(comments)):\n",
    "    no_stop_words = []\n",
    "    for words in word_tokenize(comments[i]):\n",
    "        if words not in stop:\n",
    "            no_stop_words.append(words)\n",
    "    new_comment= ' '.join(lemmer.lemmatize(word) for word in no_stop_words)\n",
    "    comments[i] = new_comment\n",
    "\n",
    "vectorizer = CountVectorizer(stop_words='english')\n",
    "X_sparse = vectorizer.fit_transform(comments)\n",
    "X = np.array(X_sparse.toarray())\n",
    "\n",
    "\n",
    "#after stop words and lemmatization\n",
    "#remove the words that appear very rarely\n",
    "\"\"\"\n",
    "X_frequency = np.sum(X, axis=0)\n",
    "np.sort(X_frequency)[::-1][90:100]\n",
    "\n",
    "np.sort(X_frequency)[::-1][190:200]\n",
    "\n",
    "#there are about 35000 features that have frequency 1\n",
    "#there are about 10000 featrues that have frequency 2\n",
    "delete_features = []\n",
    "for i in range(len(X_frequency)):\n",
    "    if X_frequency[i] <= 1:\n",
    "        delete_features.append(i)\n",
    "delete_X = np.delete(bache_X, delete_features, 1)\n",
    "\n",
    "delete_X.shape\n",
    "\"\"\""
   ]
  },
  {
   "cell_type": "code",
   "execution_count": 3,
   "metadata": {},
   "outputs": [],
   "source": [
    "np.save('X.npy', X)"
   ]
  },
  {
   "cell_type": "code",
   "execution_count": null,
   "metadata": {},
   "outputs": [],
   "source": []
  }
 ],
 "metadata": {
  "kernelspec": {
   "display_name": "Python 3",
   "language": "python",
   "name": "python3"
  },
  "language_info": {
   "codemirror_mode": {
    "name": "ipython",
    "version": 3
   },
   "file_extension": ".py",
   "mimetype": "text/x-python",
   "name": "python",
   "nbconvert_exporter": "python",
   "pygments_lexer": "ipython3",
   "version": "3.6.5"
  }
 },
 "nbformat": 4,
 "nbformat_minor": 2
}
